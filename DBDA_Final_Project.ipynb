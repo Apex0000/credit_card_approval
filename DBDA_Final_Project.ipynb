{
  "cells": [
    {
      "cell_type": "markdown",
      "metadata": {
        "id": "NNhMreTOsD7L"
      },
      "source": [
        "# Importing necessary Packages and Libraries"
      ]
    },
    {
      "cell_type": "code",
      "execution_count": null,
      "metadata": {
        "colab": {
          "base_uri": "https://localhost:8080/"
        },
        "id": "WpU-Nm6E1I4a",
        "outputId": "acb8cb3c-d747-4b2d-9234-91ec7a95c1ae"
      },
      "outputs": [
        {
          "output_type": "stream",
          "name": "stdout",
          "text": [
            "Looking in indexes: https://pypi.org/simple, https://us-python.pkg.dev/colab-wheels/public/simple/\n",
            "Collecting scikit-plot\n",
            "  Downloading scikit_plot-0.3.7-py3-none-any.whl (33 kB)\n",
            "Requirement already satisfied: matplotlib>=1.4.0 in /usr/local/lib/python3.10/dist-packages (from scikit-plot) (3.7.1)\n",
            "Requirement already satisfied: scikit-learn>=0.18 in /usr/local/lib/python3.10/dist-packages (from scikit-plot) (1.2.2)\n",
            "Requirement already satisfied: scipy>=0.9 in /usr/local/lib/python3.10/dist-packages (from scikit-plot) (1.10.1)\n",
            "Requirement already satisfied: joblib>=0.10 in /usr/local/lib/python3.10/dist-packages (from scikit-plot) (1.2.0)\n",
            "Requirement already satisfied: contourpy>=1.0.1 in /usr/local/lib/python3.10/dist-packages (from matplotlib>=1.4.0->scikit-plot) (1.0.7)\n",
            "Requirement already satisfied: cycler>=0.10 in /usr/local/lib/python3.10/dist-packages (from matplotlib>=1.4.0->scikit-plot) (0.11.0)\n",
            "Requirement already satisfied: fonttools>=4.22.0 in /usr/local/lib/python3.10/dist-packages (from matplotlib>=1.4.0->scikit-plot) (4.39.3)\n",
            "Requirement already satisfied: kiwisolver>=1.0.1 in /usr/local/lib/python3.10/dist-packages (from matplotlib>=1.4.0->scikit-plot) (1.4.4)\n",
            "Requirement already satisfied: numpy>=1.20 in /usr/local/lib/python3.10/dist-packages (from matplotlib>=1.4.0->scikit-plot) (1.22.4)\n",
            "Requirement already satisfied: packaging>=20.0 in /usr/local/lib/python3.10/dist-packages (from matplotlib>=1.4.0->scikit-plot) (23.1)\n",
            "Requirement already satisfied: pillow>=6.2.0 in /usr/local/lib/python3.10/dist-packages (from matplotlib>=1.4.0->scikit-plot) (8.4.0)\n",
            "Requirement already satisfied: pyparsing>=2.3.1 in /usr/local/lib/python3.10/dist-packages (from matplotlib>=1.4.0->scikit-plot) (3.0.9)\n",
            "Requirement already satisfied: python-dateutil>=2.7 in /usr/local/lib/python3.10/dist-packages (from matplotlib>=1.4.0->scikit-plot) (2.8.2)\n",
            "Requirement already satisfied: threadpoolctl>=2.0.0 in /usr/local/lib/python3.10/dist-packages (from scikit-learn>=0.18->scikit-plot) (3.1.0)\n",
            "Requirement already satisfied: six>=1.5 in /usr/local/lib/python3.10/dist-packages (from python-dateutil>=2.7->matplotlib>=1.4.0->scikit-plot) (1.16.0)\n",
            "Installing collected packages: scikit-plot\n",
            "Successfully installed scikit-plot-0.3.7\n"
          ]
        }
      ],
      "source": [
        "!pip install scikit-plot"
      ]
    },
    {
      "cell_type": "code",
      "execution_count": null,
      "metadata": {
        "id": "nkEEtIZ3QQWx"
      },
      "outputs": [],
      "source": [
        "import pandas as pd\n",
        "import numpy as np\n",
        "import matplotlib.pyplot as plt\n",
        "import matplotlib\n",
        "import seaborn as sns\n",
        "from scipy.stats import probplot, chi2_contingency, chi2\n",
        "from sklearn.model_selection import train_test_split\n",
        "from sklearn.preprocessing import OneHotEncoder, MinMaxScaler\n",
        "from sklearn.metrics import ConfusionMatrixDisplay, classification_report, roc_curve, roc_auc_score,accuracy_score\n",
        "from imblearn.over_sampling import SMOTE\n",
        "from sklearn.linear_model import LogisticRegression\n",
        "from sklearn.svm import SVC\n",
        "from sklearn.tree import DecisionTreeClassifier\n",
        "from sklearn.ensemble import RandomForestClassifier, GradientBoostingClassifier, AdaBoostClassifier\n",
        "from sklearn.naive_bayes import GaussianNB\n",
        "from sklearn.neighbors import KNeighborsClassifier\n",
        "from sklearn.discriminant_analysis import LinearDiscriminantAnalysis\n",
        "from sklearn.inspection import permutation_importance\n",
        "import scikitplot as skplt\n",
        "from yellowbrick.model_selection import FeatureImportances\n",
        "import scipy.stats as stats\n",
        "import joblib\n",
        "import os\n",
        "%matplotlib inline\n",
        "\n"
      ]
    },
    {
      "cell_type": "code",
      "execution_count": null,
      "metadata": {
        "colab": {
          "base_uri": "https://localhost:8080/"
        },
        "id": "PoV_ejXtSG0H",
        "outputId": "ca06d4d2-d144-49e2-e856-b5c26e823710"
      },
      "outputs": [
        {
          "output_type": "stream",
          "name": "stdout",
          "text": [
            "Looking in indexes: https://pypi.org/simple, https://us-python.pkg.dev/colab-wheels/public/simple/\n",
            "Collecting pyspark\n",
            "  Downloading pyspark-3.4.0.tar.gz (310.8 MB)\n",
            "\u001b[2K     \u001b[90m━━━━━━━━━━━━━━━━━━━━━━━━━━━━━━━━━━━━━━━\u001b[0m \u001b[32m310.8/310.8 MB\u001b[0m \u001b[31m3.1 MB/s\u001b[0m eta \u001b[36m0:00:00\u001b[0m\n",
            "\u001b[?25h  Preparing metadata (setup.py) ... \u001b[?25l\u001b[?25hdone\n",
            "Requirement already satisfied: py4j==0.10.9.7 in /usr/local/lib/python3.10/dist-packages (from pyspark) (0.10.9.7)\n",
            "Building wheels for collected packages: pyspark\n",
            "  Building wheel for pyspark (setup.py) ... \u001b[?25l\u001b[?25hdone\n",
            "  Created wheel for pyspark: filename=pyspark-3.4.0-py2.py3-none-any.whl size=311317130 sha256=6d29b8d1b1c27b730fd92e340c1405aea2c832bad3b93d05a1674ccecab1a746\n",
            "  Stored in directory: /root/.cache/pip/wheels/7b/1b/4b/3363a1d04368e7ff0d408e57ff57966fcdf00583774e761327\n",
            "Successfully built pyspark\n",
            "Installing collected packages: pyspark\n",
            "Successfully installed pyspark-3.4.0\n"
          ]
        }
      ],
      "source": [
        "!pip install pyspark"
      ]
    },
    {
      "cell_type": "markdown",
      "metadata": {
        "id": "BxkNhh6g38Z4"
      },
      "source": [
        "# Data Cleaning and Feature Engineering using Pyspark"
      ]
    },
    {
      "cell_type": "code",
      "execution_count": null,
      "metadata": {
        "id": "J5v4E6skzUxz"
      },
      "outputs": [],
      "source": [
        "from google.colab import drive\n",
        "drive.mount('/content/drive')"
      ]
    },
    {
      "cell_type": "code",
      "execution_count": null,
      "metadata": {
        "id": "-9ss7CE0-lOd"
      },
      "outputs": [],
      "source": [
        "#from pyspark import SparkContext,SparkConf\n",
        "#conf = SparkConf().setAppName('CCAP').setMaster('local')\n",
        "#sc = SparkContext(conf=conf)#entry point for programming with rdd"
      ]
    },
    {
      "cell_type": "code",
      "execution_count": null,
      "metadata": {
        "id": "g4sjjom73--G"
      },
      "outputs": [],
      "source": [
        "from pyspark.sql import SparkSession\n",
        "\n",
        "spark = SparkSession.builder.appName(\"MyApp\").getOrCreate() #entry point for programming with dataframes"
      ]
    },
    {
      "cell_type": "code",
      "execution_count": null,
      "metadata": {
        "id": "dN7jpDLW-tJf"
      },
      "outputs": [],
      "source": [
        "cc_data_full_data=spark.read.load('/content/drive/MyDrive/DBDA Final Project/application_record.csv',format='csv',inferSchema=True,header=True)\n",
        "cc_data_full_data.show(10)"
      ]
    },
    {
      "cell_type": "code",
      "execution_count": null,
      "metadata": {
        "id": "zCEKlP5ra4hG"
      },
      "outputs": [],
      "source": [
        "cc_data_full_data.count()"
      ]
    },
    {
      "cell_type": "code",
      "execution_count": null,
      "metadata": {
        "id": "BNuhqj3I4_Li"
      },
      "outputs": [],
      "source": [
        "credit_status = spark.read.load('/content/drive/MyDrive/DBDA Final Project/credit_record.csv',format='csv',inferSchema=True,header=True)\n",
        "credit_status.show(10)"
      ]
    },
    {
      "cell_type": "code",
      "execution_count": null,
      "metadata": {
        "id": "nlbgNm9t46Zt"
      },
      "outputs": [],
      "source": [
        "credit_status.count()"
      ]
    },
    {
      "cell_type": "code",
      "execution_count": null,
      "metadata": {
        "id": "POvwaO1GvmNP"
      },
      "outputs": [],
      "source": [
        "import pyspark.sql.functions as F\n",
        "\n",
        "# groupby and aggregate to get the minimum MONTHS_BALANCE by ID\n",
        "begin_month = credit_status.groupBy('ID').agg(F.abs(F.min('MONTHS_BALANCE')).alias('Account age'))\n",
        "\n",
        "# rename the column to 'Account age'\n",
        "begin_month = begin_month.withColumnRenamed('MONTHS_BALANCE', 'Account age')\n",
        "\n",
        "# join the 'begin_month' DataFrame with 'cc_data_full_data' on 'ID'\n",
        "cc_data_full_data = cc_data_full_data.join(begin_month, on='ID', how='left')"
      ]
    },
    {
      "cell_type": "code",
      "execution_count": null,
      "metadata": {
        "id": "dcOyz1NWv0y9"
      },
      "outputs": [],
      "source": [
        "cc_data_full_data.show(10)"
      ]
    },
    {
      "cell_type": "markdown",
      "metadata": {
        "id": "mkLO8aPXa_HM"
      },
      "source": [
        "## Creating Target Column\n",
        "\n",
        "###Classifying users as Risk or Not using STATUS if defaulted for 2 or more months\n"
      ]
    },
    {
      "cell_type": "code",
      "execution_count": null,
      "metadata": {
        "id": "5MaAwgksa-aE"
      },
      "outputs": [],
      "source": [
        "from pyspark.sql.functions import when, count,lit\n",
        "\n",
        "# Create a new column called dep_value and set its value to null\n",
        "credit_status = credit_status.withColumn('dep_value', lit(None).cast('string'))\n",
        "\n",
        "# Set dep_value to 'Yes' for all rows where STATUS is 2, 3, 4, or 5\n",
        "credit_status = credit_status.withColumn('dep_value', when(credit_status.STATUS.isin([2, 3, 4, 5]), 'Yes').otherwise(credit_status.dep_value))\n",
        "\n",
        "# Count the number of rows for each ID and create a new column called Target with values 'Yes' or 'No'\n",
        "cpunt = credit_status.groupBy('ID').agg(count('dep_value').alias('dep_count'))\n",
        "cpunt = cpunt.withColumn('Target', when(cpunt.dep_count > 0, 'Yes').otherwise('No'))\n",
        "\n"
      ]
    },
    {
      "cell_type": "code",
      "execution_count": null,
      "metadata": {
        "id": "d1Z43s1HcMuT"
      },
      "outputs": [],
      "source": [
        "# Rename dep_value to Target and convert it to 1s and 0s\n",
        "cc_data_full_data = cc_data_full_data.join(cpunt, on='ID', how='inner')\n",
        "cc_data_full_data = cc_data_full_data.withColumnRenamed('dep_value', 'Target').withColumn('Target', when(cc_data_full_data.Target == 'Yes', 1).otherwise(0))\n",
        "cc_data_full_data.select('Target').groupBy('Target').count().show()"
      ]
    },
    {
      "cell_type": "code",
      "execution_count": null,
      "metadata": {
        "id": "IUOax0asnXW7"
      },
      "outputs": [],
      "source": [
        "cc_data_full_data=cc_data_full_data.drop('dep_count')"
      ]
    },
    {
      "cell_type": "code",
      "execution_count": null,
      "metadata": {
        "id": "32dOujl0mmHn"
      },
      "outputs": [],
      "source": [
        "cc_data_full_data.show(10)"
      ]
    },
    {
      "cell_type": "markdown",
      "source": [],
      "metadata": {
        "id": "k6btKMnl6zMY"
      }
    },
    {
      "cell_type": "code",
      "execution_count": null,
      "metadata": {
        "id": "0fL2XZsak99E"
      },
      "outputs": [],
      "source": [
        "cc_data_full_data.write.format('csv').option('header', 'true').mode('overwrite').save('cc_full_data_prepared')\n"
      ]
    },
    {
      "cell_type": "code",
      "execution_count": null,
      "metadata": {
        "id": "kh73_sO3oUst"
      },
      "outputs": [],
      "source": [
        "# Coalesce to a single partition\n",
        "cc_data_full_data = cc_data_full_data.coalesce(1)\n",
        "\n",
        "# Save as a single merged file\n",
        "cc_data_full_data.write.format('csv') \\\n",
        "    .option('header', 'true') \\\n",
        "    .option('mergeSchema', 'true') \\\n",
        "    .mode('overwrite') \\\n",
        "    .save('cc_data_full_prepared')"
      ]
    },
    {
      "cell_type": "code",
      "execution_count": null,
      "metadata": {
        "id": "RxBftVy-WuiZ"
      },
      "outputs": [],
      "source": [
        "#sc.stop()"
      ]
    },
    {
      "cell_type": "markdown",
      "metadata": {
        "id": "AC5UNirOSHaX"
      },
      "source": [
        "# Data Preparation"
      ]
    },
    {
      "cell_type": "markdown",
      "metadata": {
        "id": "88FDVUhQ8674"
      },
      "source": [
        "## Using Pandas"
      ]
    },
    {
      "cell_type": "code",
      "execution_count": null,
      "metadata": {
        "id": "vO9CngvZscEu"
      },
      "outputs": [],
      "source": [
        "cc_data_full_data=pd.read_csv('/content/cc_data_full_prepared/part-00000-b087a501-e8b7-49f7-8a38-27a73848d219-c000.csv')"
      ]
    },
    {
      "cell_type": "code",
      "execution_count": null,
      "metadata": {
        "id": "8TZuAYvmsqX8"
      },
      "outputs": [],
      "source": [
        "cc_data_full_data.head()"
      ]
    },
    {
      "cell_type": "code",
      "execution_count": null,
      "metadata": {
        "id": "Gvq1gZR9UNh2"
      },
      "outputs": [],
      "source": [
        "#Getting Age from DAYS_BIRTH column\n",
        "cc_data_full_data['DAYS_BIRTH'].describe()"
      ]
    },
    {
      "cell_type": "code",
      "execution_count": null,
      "metadata": {
        "id": "9IUZG6YtUugi"
      },
      "outputs": [],
      "source": [
        "cc_data_full_data['DAYS_BIRTH']=(np.abs(cc_data_full_data['DAYS_BIRTH'])//365.25)\n",
        "cc_data_full_data.rename(columns={'DAYS_BIRTH':'AGE'},inplace=True)\n",
        "cc_data_full_data[\"AGE\"].describe()"
      ]
    },
    {
      "cell_type": "code",
      "execution_count": null,
      "metadata": {
        "id": "nK7tRHJgWwh4"
      },
      "outputs": [],
      "source": [
        "#Getting EMPLOYMENT LENGTH from DAYS EMPLOYED\n",
        "cc_data_full_data['DAYS_EMPLOYED'][cc_data_full_data['DAYS_EMPLOYED'] >=0].value_counts() #corresponds to unemployed"
      ]
    },
    {
      "cell_type": "code",
      "execution_count": null,
      "metadata": {
        "id": "IWIwLcetGYxh"
      },
      "outputs": [],
      "source": [
        "cc_data_full_data['DAYS_EMPLOYED'][cc_data_full_data['DAYS_EMPLOYED'] >=0]=0 #replacing positive values with 0"
      ]
    },
    {
      "cell_type": "code",
      "execution_count": null,
      "metadata": {
        "id": "sX0r_i3dGowE"
      },
      "outputs": [],
      "source": [
        "cc_data_full_data['DAYS_EMPLOYED']=(np.abs(cc_data_full_data['DAYS_EMPLOYED'])//365.25)\n",
        "cc_data_full_data.rename(columns={'DAYS_EMPLOYED':'EMPLOYMENT_LENGTH'},inplace=True)\n",
        "cc_data_full_data['EMPLOYMENT_LENGTH'].describe()"
      ]
    },
    {
      "cell_type": "code",
      "execution_count": null,
      "metadata": {
        "id": "yCGeo7mttauD"
      },
      "outputs": [],
      "source": [
        "cc_data_full_data.info()"
      ]
    },
    {
      "cell_type": "code",
      "execution_count": null,
      "metadata": {
        "id": "JvtV68fTjhyv"
      },
      "outputs": [],
      "source": [
        "cc_data_full_data.shape"
      ]
    },
    {
      "cell_type": "code",
      "execution_count": null,
      "metadata": {
        "id": "nVuXnycZjV_F"
      },
      "outputs": [],
      "source": [
        "(cc_data_full_data.isna().sum()/cc_data_full_data.shape[0])*100"
      ]
    },
    {
      "cell_type": "code",
      "execution_count": null,
      "metadata": {
        "id": "XPX7ZBHVjfRK"
      },
      "outputs": [],
      "source": [
        "new_data=cc_data_full_data.copy()"
      ]
    },
    {
      "cell_type": "code",
      "execution_count": null,
      "metadata": {
        "id": "XyI54JxrlWCe"
      },
      "outputs": [],
      "source": [
        "new_data['OCCUPATION_TYPE'].value_counts()"
      ]
    },
    {
      "cell_type": "code",
      "execution_count": null,
      "metadata": {
        "id": "t4itWP-i1wZO"
      },
      "outputs": [],
      "source": [
        "sns.countplot(new_data['OCCUPATION_TYPE'])\n",
        "plt.xticks(rotation=90)"
      ]
    },
    {
      "cell_type": "markdown",
      "metadata": {
        "id": "RJ-qmdSDW-Ea"
      },
      "source": [
        "More than 30% of of values are missing in OCCUPATION TYPE column. From the above countplot we can see that Labourers is the most common occupation in our dataset. So we can impute the missing values with Laborers or we can just create another value as 'Others' and assign them to the missing values or the third option would be dropping the missing values."
      ]
    },
    {
      "cell_type": "code",
      "execution_count": null,
      "metadata": {
        "id": "13f9jmq42S6I"
      },
      "outputs": [],
      "source": [
        "#Method 1: Imputing missing values with mode\n",
        "new_data_imputed = new_data.copy()\n",
        "new_data_imputed['OCCUPATION_TYPE']=new_data_imputed['OCCUPATION_TYPE'].replace(np.nan,'Laborers')\n",
        "new_data_imputed.isna().sum()"
      ]
    },
    {
      "cell_type": "code",
      "execution_count": null,
      "metadata": {
        "id": "nEEiDliAam_T"
      },
      "outputs": [],
      "source": [
        "#Method 2: Imputing missing values by creating new category\n",
        "new_data_imputed_cat = new_data.copy()\n",
        "new_data_imputed_cat['OCCUPATION_TYPE']=new_data_imputed_cat['OCCUPATION_TYPE'].replace(np.nan,'Other')\n",
        "new_data_imputed_cat.isna().sum()"
      ]
    },
    {
      "cell_type": "code",
      "execution_count": null,
      "metadata": {
        "id": "33rUq3mwbD3z"
      },
      "outputs": [],
      "source": [
        "#Method 3: Dropping missing Values\n",
        "new_data_drop_na = new_data.copy()\n",
        "new_data_drop_na.dropna(inplace=True)\n",
        "new_data_drop_na.isna().sum()\n"
      ]
    },
    {
      "cell_type": "markdown",
      "metadata": {
        "id": "-gL4QmkhSQLU"
      },
      "source": [
        "# EDA"
      ]
    },
    {
      "cell_type": "code",
      "execution_count": null,
      "metadata": {
        "id": "mGKQWUEv93d7"
      },
      "outputs": [],
      "source": [
        "def get_basic_info(df,feature):\n",
        "  print('Description:\\n{}'.format(df[feature].describe()))\n",
        "  print('*'*50)\n",
        "  print('Value Counts:\\n{}'.format(df[feature].value_counts()))"
      ]
    },
    {
      "cell_type": "markdown",
      "metadata": {
        "id": "BbWNzzxZ6078"
      },
      "source": [
        "## Univarite Analysis"
      ]
    },
    {
      "cell_type": "markdown",
      "metadata": {
        "id": "Gw-kAmH-8YrL"
      },
      "source": [
        "### 1.Gender"
      ]
    },
    {
      "cell_type": "code",
      "execution_count": null,
      "metadata": {
        "id": "_L0WCaXm_CJK"
      },
      "outputs": [],
      "source": [
        "get_basic_info(new_data,'CODE_GENDER')"
      ]
    },
    {
      "cell_type": "code",
      "execution_count": null,
      "metadata": {
        "id": "LKpBFXaH_cjT"
      },
      "outputs": [],
      "source": [
        "fig=plt.figure()\n",
        "fig, ax = plt.subplots(figsize=(8,8))\n",
        "# %1.2f%% display decimals in the pie chart with 2 decimal places\n",
        "plt.pie(new_data['CODE_GENDER'].value_counts(),labels=new_data['CODE_GENDER'].value_counts().index, autopct='%1.2f%%', startangle=90, wedgeprops={'edgecolor' :'black'})\n",
        "plt.title('Pie chart of Gender')\n",
        "plt.legend(loc='best')\n",
        "plt.axis('equal')"
      ]
    },
    {
      "cell_type": "markdown",
      "metadata": {
        "id": "QIi80XdJCdhr"
      },
      "source": [
        "#### Inference:\n",
        "\n",
        "Most of the applicants (67%) are Female."
      ]
    },
    {
      "cell_type": "markdown",
      "metadata": {
        "id": "kfMyR9kiW4sy"
      },
      "source": [
        "### 2.Age"
      ]
    },
    {
      "cell_type": "code",
      "execution_count": null,
      "metadata": {
        "id": "-TM8Mw5NW3_U"
      },
      "outputs": [],
      "source": [
        "new_data[\"AGE\"].describe()"
      ]
    },
    {
      "cell_type": "code",
      "execution_count": null,
      "metadata": {
        "id": "52GAv9diXbmQ"
      },
      "outputs": [],
      "source": [
        "fig, ax = plt.subplots(figsize=(8,2))\n",
        "sns.boxplot(new_data['AGE'])\n",
        "plt.title('Age Distribution Boxplot')"
      ]
    },
    {
      "cell_type": "code",
      "execution_count": null,
      "metadata": {
        "id": "XYT5ua9DYoNm"
      },
      "outputs": [],
      "source": [
        "fig, ax = plt.subplots(figsize=(9,5))\n",
        "sns.histplot(new_data['AGE'],bins=20,kde=True)\n",
        "plt.title('Age distribution Histogram')"
      ]
    },
    {
      "cell_type": "markdown",
      "metadata": {
        "id": "on3ahnISZana"
      },
      "source": [
        "####Inference:\n",
        "The median Age of applicants is 43. Highest number of the applicants fall within the Age group of 30-40 Years"
      ]
    },
    {
      "cell_type": "markdown",
      "metadata": {
        "id": "v83J9Xqua_Fa"
      },
      "source": [
        "### 3.Education Type"
      ]
    },
    {
      "cell_type": "code",
      "execution_count": null,
      "metadata": {
        "id": "3SL4SY8za-WB",
        "colab": {
          "base_uri": "https://localhost:8080/",
          "height": 165
        },
        "outputId": "00340d69-a966-4d8b-b3a9-e51f9e18b6c8"
      },
      "outputs": [
        {
          "output_type": "error",
          "ename": "NameError",
          "evalue": "ignored",
          "traceback": [
            "\u001b[0;31m---------------------------------------------------------------------------\u001b[0m",
            "\u001b[0;31mNameError\u001b[0m                                 Traceback (most recent call last)",
            "\u001b[0;32m<ipython-input-1-04fe1e959075>\u001b[0m in \u001b[0;36m<cell line: 1>\u001b[0;34m()\u001b[0m\n\u001b[0;32m----> 1\u001b[0;31m \u001b[0mget_basic_info\u001b[0m\u001b[0;34m(\u001b[0m\u001b[0mnew_data\u001b[0m\u001b[0;34m,\u001b[0m\u001b[0;34m'NAME_EDUCATION_TYPE'\u001b[0m\u001b[0;34m)\u001b[0m\u001b[0;34m\u001b[0m\u001b[0;34m\u001b[0m\u001b[0m\n\u001b[0m",
            "\u001b[0;31mNameError\u001b[0m: name 'get_basic_info' is not defined"
          ]
        }
      ],
      "source": [
        "get_basic_info(new_data,'NAME_EDUCATION_TYPE')"
      ]
    },
    {
      "cell_type": "code",
      "execution_count": null,
      "metadata": {
        "id": "hWc-_D_BbX6M"
      },
      "outputs": [],
      "source": [
        "sns.countplot(new_data['NAME_EDUCATION_TYPE'])\n",
        "plt.xticks(rotation=90)"
      ]
    },
    {
      "cell_type": "markdown",
      "metadata": {
        "id": "G-bdEzRBcdT3"
      },
      "source": [
        "####Inference:\n",
        "Highest number of applicants have completed Secondary Education"
      ]
    },
    {
      "cell_type": "markdown",
      "metadata": {
        "id": "6-TcVA5sdran"
      },
      "source": [
        "### 4.Family Status"
      ]
    },
    {
      "cell_type": "code",
      "execution_count": null,
      "metadata": {
        "id": "5uziMeF6dqTz"
      },
      "outputs": [],
      "source": [
        "get_basic_info(new_data,'NAME_FAMILY_STATUS')"
      ]
    },
    {
      "cell_type": "code",
      "execution_count": null,
      "metadata": {
        "id": "AKEeDrTTeFVg"
      },
      "outputs": [],
      "source": [
        "fig=plt.figure()\n",
        "fig, ax = plt.subplots(figsize=(8,9))\n",
        "# %1.2f%% display decimals in the pie chart with 2 decimal places\n",
        "plt.pie(new_data['NAME_FAMILY_STATUS'].value_counts(),labels=new_data['NAME_FAMILY_STATUS'].value_counts().index, autopct='%1.2f%%', startangle=90, wedgeprops={'edgecolor' :'black'})\n",
        "plt.title('Pie chart of Gender')\n",
        "plt.legend(loc='best')\n",
        "plt.axis('equal')"
      ]
    },
    {
      "cell_type": "markdown",
      "metadata": {
        "id": "RJd46q9VfKLS"
      },
      "source": [
        "#### Inference:\n",
        "Highest number of applicants are from Married people."
      ]
    },
    {
      "cell_type": "markdown",
      "metadata": {
        "id": "xdorXv0ffT6_"
      },
      "source": [
        "### 5. Family Member Count"
      ]
    },
    {
      "cell_type": "code",
      "execution_count": null,
      "metadata": {
        "id": "63ABe_TVfoMn"
      },
      "outputs": [],
      "source": [
        "get_basic_info(new_data,'CNT_FAM_MEMBERS')"
      ]
    },
    {
      "cell_type": "code",
      "execution_count": null,
      "metadata": {
        "id": "IUG700YHf5Zv"
      },
      "outputs": [],
      "source": [
        "fig, ax = plt.subplots(figsize=(8,2))\n",
        "sns.boxplot(new_data['CNT_FAM_MEMBERS'])\n",
        "plt.title('Family Members Distribution Boxplot')"
      ]
    },
    {
      "cell_type": "markdown",
      "metadata": {
        "id": "yToDIe3PgNju"
      },
      "source": [
        "#### Inference:\n",
        "Most applicants have 2 Family Members.\n",
        "\n",
        "We also have 6 outliers, two of them are extreme with 15 and 20 Family Members"
      ]
    },
    {
      "cell_type": "markdown",
      "metadata": {
        "id": "UHUh_MfJgoOa"
      },
      "source": [
        "### 6.Children Count"
      ]
    },
    {
      "cell_type": "code",
      "execution_count": null,
      "metadata": {
        "id": "G-LAyUbLgnkq"
      },
      "outputs": [],
      "source": [
        "get_basic_info(new_data,'CNT_CHILDREN')"
      ]
    },
    {
      "cell_type": "code",
      "execution_count": null,
      "metadata": {
        "id": "DZE7BstWg53O"
      },
      "outputs": [],
      "source": [
        "fig, ax = plt.subplots(figsize=(8,2))\n",
        "sns.boxplot(new_data['CNT_CHILDREN'])\n",
        "plt.title('Children Count Distribution Boxplot')"
      ]
    },
    {
      "cell_type": "markdown",
      "metadata": {
        "id": "K4wO6YxmhMaZ"
      },
      "source": [
        "#### Inference:\n",
        "Most of the applicants dont't have any children. This also explains why most applicants' Family Member count is 2.\n",
        "\n",
        "We have 6 outliers in this case also. They might be the same which we found from Family Member Count"
      ]
    },
    {
      "cell_type": "markdown",
      "metadata": {
        "id": "GZbK17Oth9vF"
      },
      "source": [
        "### 7.Housing Type"
      ]
    },
    {
      "cell_type": "code",
      "execution_count": null,
      "metadata": {
        "id": "Vz9EnDQxiCYX"
      },
      "outputs": [],
      "source": [
        "get_basic_info(new_data,'NAME_HOUSING_TYPE')"
      ]
    },
    {
      "cell_type": "code",
      "execution_count": null,
      "metadata": {
        "id": "_9vGDZBaiUcj"
      },
      "outputs": [],
      "source": [
        "sns.countplot(new_data['NAME_HOUSING_TYPE'])\n",
        "plt.xticks(rotation=90)"
      ]
    },
    {
      "cell_type": "markdown",
      "metadata": {
        "id": "9uxa7wSGi9ig"
      },
      "source": [
        "#### Inference:\n",
        "Almost every applicant lives in House/Apartment"
      ]
    },
    {
      "cell_type": "markdown",
      "metadata": {
        "id": "udNmicVyjaTY"
      },
      "source": [
        "### 8.Income"
      ]
    },
    {
      "cell_type": "code",
      "execution_count": null,
      "metadata": {
        "id": "IxO-3qJFjeK2"
      },
      "outputs": [],
      "source": [
        "get_basic_info(new_data,'AMT_INCOME_TOTAL')"
      ]
    },
    {
      "cell_type": "code",
      "execution_count": null,
      "metadata": {
        "id": "KW46ak4zjtH8"
      },
      "outputs": [],
      "source": [
        "fig, ax = plt.subplots(figsize=(2,8))\n",
        "sns.boxplot(y=new_data['AMT_INCOME_TOTAL'])\n",
        "plt.title('Income distribution(Boxplot)')\n",
        "# suppress scientific notation\n",
        "ax.get_yaxis().set_major_formatter(matplotlib.ticker.FuncFormatter(lambda x, p: format(int(x), ',')))"
      ]
    },
    {
      "cell_type": "code",
      "execution_count": null,
      "metadata": {
        "id": "CUQZgvvgkhSJ"
      },
      "outputs": [],
      "source": [
        "fig, ax = plt.subplots(figsize=(9,5))\n",
        "sns.histplot(new_data['AMT_INCOME_TOTAL'],bins=20,kde=True)\n",
        "plt.title('Income distribution Histogram')"
      ]
    },
    {
      "cell_type": "markdown",
      "metadata": {
        "id": "qEZjP4sDkZGp"
      },
      "source": [
        "#### Inference:\n",
        "The average income is 186890 but this amount accounts for outliers. If we ignore the outlier most people make 157500\n",
        "\n",
        "We have 3 applicants who makes more than 1000000"
      ]
    },
    {
      "cell_type": "markdown",
      "metadata": {
        "id": "MPhiWaeblMlz"
      },
      "source": [
        "### 9.Employment Status"
      ]
    },
    {
      "cell_type": "code",
      "execution_count": null,
      "metadata": {
        "id": "Xo84N2M2kSo0"
      },
      "outputs": [],
      "source": [
        "get_basic_info(new_data,'NAME_INCOME_TYPE' )"
      ]
    },
    {
      "cell_type": "code",
      "execution_count": null,
      "metadata": {
        "id": "WNEDtKJAlkPd"
      },
      "outputs": [],
      "source": [
        "sns.countplot(new_data['NAME_INCOME_TYPE'])\n",
        "plt.xticks(rotation=45)"
      ]
    },
    {
      "cell_type": "markdown",
      "metadata": {
        "id": "ugZqohX0mmuC"
      },
      "source": [
        "#### Inference:\n",
        "Most applicants are employed"
      ]
    },
    {
      "cell_type": "markdown",
      "metadata": {
        "id": "BLiVievTmwbW"
      },
      "source": [
        "### 10.Car ownership"
      ]
    },
    {
      "cell_type": "code",
      "execution_count": null,
      "metadata": {
        "id": "jBcCouaem3VH"
      },
      "outputs": [],
      "source": [
        "get_basic_info(new_data,'FLAG_OWN_CAR')"
      ]
    },
    {
      "cell_type": "code",
      "execution_count": null,
      "metadata": {
        "id": "3dRHteSJoP-3"
      },
      "outputs": [],
      "source": [
        "sns.countplot(new_data['FLAG_OWN_CAR'])"
      ]
    },
    {
      "cell_type": "markdown",
      "metadata": {
        "id": "L8jyKeyHoXAd"
      },
      "source": [
        "#### Inference:\n",
        "Higher number of applicants don't own a car"
      ]
    },
    {
      "cell_type": "markdown",
      "metadata": {
        "id": "7-2QLLUookZ7"
      },
      "source": [
        "### 11.Property Ownership"
      ]
    },
    {
      "cell_type": "code",
      "execution_count": null,
      "metadata": {
        "id": "cipJL1hyoq7z"
      },
      "outputs": [],
      "source": [
        "get_basic_info(new_data,'FLAG_OWN_REALTY')"
      ]
    },
    {
      "cell_type": "code",
      "execution_count": null,
      "metadata": {
        "id": "umuyUW5to2T7"
      },
      "outputs": [],
      "source": [
        "sns.countplot(new_data['FLAG_OWN_REALTY'])"
      ]
    },
    {
      "cell_type": "markdown",
      "metadata": {
        "id": "IFdzRaQqo7py"
      },
      "source": [
        "#### Inference:\n",
        "Higher number of applicants own a property"
      ]
    },
    {
      "cell_type": "markdown",
      "metadata": {
        "id": "KeBIX5lWph44"
      },
      "source": [
        "### 12.Account Age"
      ]
    },
    {
      "cell_type": "code",
      "execution_count": null,
      "metadata": {
        "id": "lESIyEdJplYQ"
      },
      "outputs": [],
      "source": [
        "get_basic_info(new_data,'Account age')"
      ]
    },
    {
      "cell_type": "code",
      "execution_count": null,
      "metadata": {
        "id": "D2zku3aFrjzb"
      },
      "outputs": [],
      "source": [
        "fig, ax = plt.subplots(figsize=(2,8))\n",
        "sns.boxplot(y=new_data['Account age'])\n",
        "plt.title('Account Age distribution(Boxplot)')"
      ]
    },
    {
      "cell_type": "code",
      "execution_count": null,
      "metadata": {
        "id": "SZNTxMhCry19"
      },
      "outputs": [],
      "source": [
        "fig, ax = plt.subplots(figsize=(9,5))\n",
        "sns.histplot(new_data['Account age'],bins=20,kde=True)\n",
        "plt.title('Account Age distribution Histogram')"
      ]
    },
    {
      "cell_type": "markdown",
      "metadata": {
        "id": "USB7PniXsSgl"
      },
      "source": [
        "#### Inference:\n",
        "Most accounts are 26 months old\n",
        "\n",
        "Account age is not normally distributed, it is positively skewed"
      ]
    },
    {
      "cell_type": "markdown",
      "metadata": {
        "id": "qtKyOiU3sgL7"
      },
      "source": [
        "### 13.Contact Modes"
      ]
    },
    {
      "cell_type": "code",
      "execution_count": null,
      "metadata": {
        "id": "gbezGBzwskcj"
      },
      "outputs": [],
      "source": [
        "# Create a list of the column names\n",
        "columns = ['FLAG_MOBIL', 'FLAG_WORK_PHONE', 'FLAG_PHONE','FLAG_EMAIL']\n",
        "df_temp=pd.melt(new_data[columns])\n",
        "sns.countplot(data=df_temp,x='variable',hue='value')"
      ]
    },
    {
      "cell_type": "markdown",
      "metadata": {
        "id": "6MvBXIBNxGFI"
      },
      "source": [
        "#### Inference:\n",
        "  1.All applicants own a mobile phone.\n",
        "\n",
        "  2.Most applicants don't own a work phone, phone and email.\n"
      ]
    },
    {
      "cell_type": "markdown",
      "metadata": {
        "id": "SkbUfI5y12GZ"
      },
      "source": [
        "### 14.Target"
      ]
    },
    {
      "cell_type": "code",
      "execution_count": null,
      "metadata": {
        "id": "9YpTMTns14lP"
      },
      "outputs": [],
      "source": [
        "get_basic_info(new_data,'Target')"
      ]
    },
    {
      "cell_type": "code",
      "execution_count": null,
      "metadata": {
        "id": "O2JG4sPh1-Tf"
      },
      "outputs": [],
      "source": [
        "sns.countplot(new_data['Target'])"
      ]
    },
    {
      "cell_type": "markdown",
      "metadata": {
        "id": "fOHjAVqS2D07"
      },
      "source": [
        "#### Inference:\n",
        "Most of the applicants are not considered as 'Risk'\n",
        "\n",
        "There's a high imbalance in data which needs to be handled while training models"
      ]
    },
    {
      "cell_type": "markdown",
      "metadata": {
        "id": "D89X8F9JgpUA"
      },
      "source": [
        "# Bivariate Analysis with Target"
      ]
    },
    {
      "cell_type": "markdown",
      "metadata": {
        "id": "goBwQjc5R-Fq"
      },
      "source": [
        "## 1. Numerical vs numerical features (Correlation & scatter plots)"
      ]
    },
    {
      "cell_type": "markdown",
      "metadata": {
        "id": "CyfI8tOlSAbx"
      },
      "source": [
        "### 1.1 Scatter plots"
      ]
    },
    {
      "cell_type": "code",
      "execution_count": null,
      "metadata": {
        "id": "bI5-zwrpSGou"
      },
      "outputs": [],
      "source": [
        "new_data.info()"
      ]
    },
    {
      "cell_type": "code",
      "execution_count": null,
      "metadata": {
        "id": "jFYOgdXogpUB"
      },
      "outputs": [],
      "source": [
        "sns.pairplot(new_data[new_data['EMPLOYMENT_LENGTH'] > 0].drop(['ID','FLAG_MOBIL','FLAG_WORK_PHONE','FLAG_PHONE','FLAG_EMAIL','Target'],axis=1),corner=True)\n",
        "plt.show()\n",
        "# Interpretation:\n",
        "\n",
        "# We can see a positive linear correlation between the family member and the children count. This makes sense, the more the children someone have, the larger the family member count. This is a multicollinearity problem. Meaning that the features are highly correlated. We will need to drop one of them.\n",
        "# Another interesting trend is the Employment length and age. This also makes sense, the longer the employee has been working, the older they are.\n"
      ]
    },
    {
      "cell_type": "markdown",
      "metadata": {
        "id": "Lcm6goEHh4Li"
      },
      "source": [
        "### Interpretation:\n",
        "\n",
        "1.We can see a positive linear correlation between the family member and the children count. This makes sense, the more the children someone have, the larger the family member count. This is a multicollinearity problem. Meaning that the features are highly correlated. We will need to drop one of them.\n",
        "\n",
        "2.Another interesting trend is the Employment length and age. This also makes sense, the longer the employee has been working, the older they are."
      ]
    },
    {
      "cell_type": "markdown",
      "metadata": {
        "id": "JtIKGw7Oggqq"
      },
      "source": [
        "###1.2 Family member count vs children count (numerical vs numerical feature comparison)\n"
      ]
    },
    {
      "cell_type": "code",
      "execution_count": null,
      "metadata": {
        "id": "PQKtRb8xZh4F"
      },
      "outputs": [],
      "source": [
        "sns.regplot(x='CNT_CHILDREN',y='CNT_FAM_MEMBERS',data=new_data,line_kws={'color': 'orange'})\n",
        "plt.show()\n",
        "# Interpretation:\n",
        "\n",
        "# The more children a person has, the larger the family member count."
      ]
    },
    {
      "cell_type": "markdown",
      "metadata": {
        "id": "Zo8e_pCEnHDr"
      },
      "source": [
        "### Interpretation:\n",
        "\n",
        "1. The more children a person has, the larger the family member count."
      ]
    },
    {
      "cell_type": "markdown",
      "metadata": {
        "id": "FPluff_MiWXg"
      },
      "source": [
        "###1.3 Account age vs age (numerical vs numerical feature comparison)"
      ]
    },
    {
      "cell_type": "code",
      "execution_count": null,
      "metadata": {
        "id": "9_Ls7YhfgG6p"
      },
      "outputs": [],
      "source": [
        "sns.jointplot(np.abs(new_data['Account age']),new_data['AGE'], kind=\"hex\", height=12)\n",
        "plt.yticks(np.arange(20,new_data['AGE'].max(), 5))\n",
        "plt.xticks(np.arange(0, 65, 5))\n",
        "plt.ylabel('AGE')\n",
        "plt.show()\n",
        "# Interpretation:\n",
        "\n",
        "# Most of the applicants are between 20 and 45 years old and have an account that is less than 25 months old."
      ]
    },
    {
      "cell_type": "markdown",
      "metadata": {
        "id": "KFT_N1vVkHAM"
      },
      "source": [
        "###Interpretation:\n",
        "\n",
        "1. Most of the applicants are between 20 and 45 years old and have an account that is less than 25 months old."
      ]
    },
    {
      "cell_type": "markdown",
      "metadata": {
        "id": "YG8hBzmZifPk"
      },
      "source": [
        "###1.4 Employment length vs age (numerical vs numerical feature comparison)"
      ]
    },
    {
      "cell_type": "code",
      "execution_count": null,
      "metadata": {
        "id": "-401xGpKiHQz"
      },
      "outputs": [],
      "source": [
        "fig, ax = plt.subplots(figsize=(12,8))\n",
        "sns.scatterplot(new_data['EMPLOYMENT_LENGTH'],new_data['AGE'],alpha=.05)\n",
        "# # changing the frequency of the x-axis and y-axis labels\n",
        "plt.xticks(np.arange(0,new_data['EMPLOYMENT_LENGTH'].max(), 2.5))\n",
        "plt.yticks(np.arange(20, new_data['AGE'].max(), 5))\n",
        "plt.show()\n",
        "# Interpretation:\n",
        "\n",
        "# This scatterplot shows that the age of the applicants is correlated with the length of the employment.\n",
        "# The reason why it is shaped like a reversed triangle, it is because the age of the applicants increase with the length of the employment. You can't have an employment length > than the age."
      ]
    },
    {
      "cell_type": "markdown",
      "metadata": {
        "id": "YbHkx6Rxmful"
      },
      "source": [
        "###Interpretation:\n",
        "\n",
        "1. This scatterplot shows that the age of the applicants is correlated with the length of the employment.\n",
        "2. The reason why it is shaped like a reversed triangle, it is because the age of the applicants increase with the length of the employment. You can't have an employment length > than the age."
      ]
    },
    {
      "cell_type": "markdown",
      "metadata": {
        "id": "8-iqrobajfiS"
      },
      "source": [
        "## 2 Correlation analysis"
      ]
    },
    {
      "cell_type": "code",
      "execution_count": null,
      "metadata": {
        "id": "S6bFi13-jj-y"
      },
      "outputs": [],
      "source": [
        "# change the datatype of target feature to int\n",
        "Target_int = new_data['Target'].astype('int32')"
      ]
    },
    {
      "cell_type": "code",
      "execution_count": null,
      "metadata": {
        "id": "6SnQpeKFuuDL"
      },
      "outputs": [],
      "source": [
        "new_data.info()"
      ]
    },
    {
      "cell_type": "code",
      "execution_count": null,
      "metadata": {
        "id": "EyTRxwtgkACz"
      },
      "outputs": [],
      "source": [
        "# correlation analysis with heatmap, after dropping the has a mobile phone with the target feature as int\n",
        "cc_train_copy_corr_no_mobile = pd.concat([new_data.drop(['FLAG_MOBIL','Target'], axis=1),Target_int],axis=1).corr()\n",
        "# Get the lower triangle of the correlation matrix\n",
        "# Generate a mask for the upper triangle\n",
        "mask = np.zeros_like(cc_train_copy_corr_no_mobile, dtype='bool')\n",
        "mask[np.triu_indices_from(mask)] = True\n",
        "# Set up the matplotlib figure\n",
        "fig, ax = plt.subplots(figsize=(18,10))\n",
        "# seaborn heatmap\n",
        "sns.heatmap(cc_train_copy_corr_no_mobile, annot=True, cmap='gnuplot',mask=mask, linewidths=.5)\n",
        "# plot the heatmap\n",
        "plt.show()"
      ]
    },
    {
      "cell_type": "markdown",
      "metadata": {
        "id": "05ZLjN5ohRXV"
      },
      "source": [
        "### Interpretation:\n",
        "\n",
        "1.There is no feature that is correlated with the target feature\n",
        "\n",
        "2.Family member count is highly correlated with children count as previously discussed\n",
        "\n",
        "3.Age has some positive correlation with the family member count and children count. The older a person is, the most likely he/she will have a larger family.\n",
        "\n",
        "4.Another positive correlation is having a phone and having a work phone.\n",
        "\n",
        "5.The final positive correlation is between the age and work phone. The younger someone is the less likely he/she will have a work phone.\n",
        "\n",
        "6.We also have a negative correlation between the employment length and the age as previously seen."
      ]
    },
    {
      "cell_type": "markdown",
      "metadata": {
        "id": "3XBxKzNOlgK8"
      },
      "source": [
        ":##2. Numerical vs categorical features"
      ]
    },
    {
      "cell_type": "markdown",
      "metadata": {
        "id": "WmCqK25flhUW"
      },
      "source": [
        "###2.1 Age vs the rest of categorical features"
      ]
    },
    {
      "cell_type": "code",
      "execution_count": null,
      "metadata": {
        "id": "LqdNVnXLkU35"
      },
      "outputs": [],
      "source": [
        "fig, axes = plt.subplots(4,2,figsize=(15,20),dpi=180)\n",
        "fig.tight_layout(pad=5.0)\n",
        "cat_features = ['CODE_GENDER', 'FLAG_OWN_CAR', 'FLAG_OWN_REALTY', 'EMPLOYMENT_LENGTH', 'NAME_EDUCATION_TYPE', 'NAME_FAMILY_STATUS', 'NAME_HOUSING_TYPE', 'OCCUPATION_TYPE']\n",
        "for cat_ft_count, ax in enumerate(axes):\n",
        "    for row_count in range(4):\n",
        "        for feat_count in range(2):\n",
        "            sns.boxplot(ax=axes[row_count,feat_count],x=new_data[cat_features[cat_ft_count]],y=np.abs(new_data['AGE'])/365.25)\n",
        "            axes[row_count,feat_count].set_title(cat_features[cat_ft_count] + \" vs age\")\n",
        "            plt.sca(axes[row_count,feat_count])\n",
        "            plt.xticks(rotation=45,ha='right')\n",
        "            plt.ylabel('AGE')\n",
        "            cat_ft_count += 1\n",
        "    break"
      ]
    },
    {
      "cell_type": "markdown",
      "metadata": {
        "id": "yAeV0Gl3ontj"
      },
      "source": [
        "###Interpretation:\n",
        "\n",
        "1. Female applicants are older than their male counterpart.\n",
        "2. Those who don't own a car tend to be older.\n",
        "3. Those who own a property tend to be older than those who don't.\n",
        "4. Of course, the pensioners are older that those who are working (We also see that some have pensioned at a young age, those are outliers).\n",
        "5. It is also interesting to see that those who hold an academic degree are younger in general than the other groups.\n",
        "6. Obviously, the widows tend to be much older. We also see some outliers in their 30's as well.\n",
        "7. With no surprise, those who live with parent tend to be younger. We also see some outlier as well.\n",
        "8. Lastly, who work as cleaning staff tend to be older while those who work in IT and to be younger."
      ]
    },
    {
      "cell_type": "markdown",
      "metadata": {
        "id": "XFGGxcALoz4h"
      },
      "source": [
        "###2.2 Income vs the rest of categorical features"
      ]
    },
    {
      "cell_type": "code",
      "execution_count": null,
      "metadata": {
        "id": "t2TuFSvOpDfg"
      },
      "outputs": [],
      "source": [
        "fig, axes = plt.subplots(4,2,figsize=(15,20),dpi=180)\n",
        "fig.tight_layout(pad=5.0)\n",
        "\n",
        "for cat_ft_count, ax in enumerate(axes):\n",
        "    for row_count in range(4):\n",
        "        for feat_count in range(2):\n",
        "            sns.boxplot(ax=axes[row_count,feat_count],x=new_data[cat_features[cat_ft_count]],y=np.abs(new_data[new_data['EMPLOYMENT_LENGTH'] > 0]['EMPLOYMENT_LENGTH'])/365.25)\n",
        "            axes[row_count,feat_count].set_title(cat_features[cat_ft_count] + \" vs employment length\")\n",
        "            plt.sca(axes[row_count,feat_count])\n",
        "            plt.ylabel('EMPLOYMENT_LENGTH')\n",
        "            plt.xticks(rotation=45,ha='right')\n",
        "            cat_ft_count += 1\n",
        "    break"
      ]
    },
    {
      "cell_type": "markdown",
      "metadata": {
        "id": "NPfZqIj6qCLJ"
      },
      "source": [
        "###Interpretation:\n",
        "\n",
        "1. State employed applicant tend to have been employed longer than the rest.\n",
        "\n",
        "2. Those who work in the medical field, have been employed longer than the rest."
      ]
    },
    {
      "cell_type": "markdown",
      "metadata": {
        "id": "1D6zWu7eqJE4"
      },
      "source": [
        "##3 Categorical vs categorical features (Chi-square test)"
      ]
    },
    {
      "cell_type": "markdown",
      "metadata": {
        "id": "sOthPYWRqN8t"
      },
      "source": [
        "Null hypothesis: the feature's categories have no effect on the target variable. Alternate hypothesis: one(or more) of the feature categories has a significant effect on the target variable."
      ]
    },
    {
      "cell_type": "code",
      "execution_count": null,
      "metadata": {
        "id": "a4cs-s1rqBw4"
      },
      "outputs": [],
      "source": [
        "def chi_func(feature):\n",
        "    # selection row with high risk\n",
        "    high_risk_ft = new_data[new_data['Target'] == 1][feature]\n",
        "    high_risk_ft_ct = pd.crosstab(index=high_risk_ft, columns=['Count']).rename_axis(None, axis=1)\n",
        "    # drop the index feature name\n",
        "    high_risk_ft_ct.index.name = None\n",
        "    # observe values\n",
        "    obs = high_risk_ft_ct\n",
        "    print('Observed values:\\n')\n",
        "    print(obs)\n",
        "    print('\\n')\n",
        "    # expected values\n",
        "    print(obs.index)\n",
        "    exp = pd.DataFrame([obs['Count'].sum()/len(obs)] * len(obs.index),columns=['Count'], index=obs.index)\n",
        "    print('Expected values:\\n')\n",
        "    print(exp)\n",
        "    print('\\n')\n",
        "    # chi-square test\n",
        "    chi_squared_stat = (((obs-exp)**2)/exp).sum()\n",
        "    print('Chi-square:\\n')\n",
        "    print(chi_squared_stat[0])\n",
        "    print('\\n')\n",
        "    #critical value\n",
        "    crit = stats.chi2.ppf(q = 0.95, df = len(obs) - 1)\n",
        "    print('Critical value:\\n')\n",
        "    print(crit)\n",
        "    print('\\n')\n",
        "    # p-value\n",
        "    p_value = 1 - stats.chi2.cdf(x = chi_squared_stat, df = len(obs) - 1)\n",
        "    print('P-value:\\n')\n",
        "    print(p_value)\n",
        "    print('\\n')\n",
        "    if chi_squared_stat[0] >= crit:\n",
        "        print('Reject the null hypothesis')\n",
        "    elif chi_squared_stat[0] <= crit:\n",
        "        print('Fail to reject the null hypothesis')"
      ]
    },
    {
      "cell_type": "code",
      "execution_count": null,
      "metadata": {
        "id": "B1szreRbxied"
      },
      "outputs": [],
      "source": [
        "new_data.info()"
      ]
    },
    {
      "cell_type": "code",
      "execution_count": null,
      "metadata": {
        "id": "juTm2_Y9qglV"
      },
      "outputs": [],
      "source": [
        "cat_ft = ['CODE_GENDER', 'FLAG_OWN_CAR', 'FLAG_OWN_REALTY', 'EMPLOYMENT_LENGTH', 'NAME_EDUCATION_TYPE', 'NAME_FAMILY_STATUS', 'NAME_HOUSING_TYPE', 'OCCUPATION_TYPE']\n",
        "for ft in cat_ft:\n",
        "    print('\\n\\n**** {} ****\\n'.format(ft))\n",
        "    chi_func(ft)"
      ]
    },
    {
      "cell_type": "markdown",
      "metadata": {
        "id": "94aiwupVq2P3"
      },
      "source": [
        "2.5 Business findings from the EDA\n",
        "*Typical profile of an applicant is: a Female in her early 40’s, married with a partner and no child. She has been employed for 5 years with a salary of 157500. She has completed her secondary education. She does not own a car but owns a property (a house/ apartment). Her account is 26 months old.*\n",
        "*Age and income do not have any effects on the target variable*\n",
        "*Those who are flagged as bad client, tend to have a shorter employment length and older accounts. They also constitute less than 2% of total applicants.*\n",
        "*Most applicants are 20 to 45 years old and have an account that is 25 months old or less.*"
      ]
    },
    {
      "cell_type": "markdown",
      "metadata": {
        "id": "MhwVuvz-JhX8"
      },
      "source": [
        "# Data Preparation for Model Building"
      ]
    },
    {
      "cell_type": "code",
      "execution_count": null,
      "metadata": {
        "id": "1nT4B4YZqJ0N"
      },
      "outputs": [],
      "source": [
        "new_data.head()"
      ]
    },
    {
      "cell_type": "markdown",
      "metadata": {
        "id": "DqFYP-bCJrMz"
      },
      "source": [
        "###Transformations to be done on each feature\n",
        "**ID**:Drop the feature\n",
        "\n",
        "**CODE_GENDER**:get dummies method\n",
        "\n",
        "**Age**:Min-max scaling and Fix skewness\n",
        "\n",
        "\n",
        "**NAME_FAMILY_STATUS**:get dummies method\n",
        "\n",
        "**CNT_FAM_MEMBERS**:Fix outliers\n",
        "\n",
        "**CNT_CHILDREN**:Drop feature\n",
        "\n",
        "**Housing type**:get dummies method\n",
        "\n",
        "**AMT_INCOME_TOTAL**:Remove outliers and Fix skewness and Min-max scaling\n",
        "\n",
        "**OCCUPATION_TYPE**:One hot encoding and Impute missing values\n",
        "\n",
        "**Employment status:**get dummies method\n",
        "\n",
        "**NAME_EDUCATION_TYPE**:Ordinal encoding\n",
        "\n",
        "**Employment length**:Remove outliers and Min-max scaling\n",
        "\n",
        "**FLAG_OWN_CAR**:Change it numerical and get dummies method\n",
        "\n",
        "**FLAG_OWN_REALTY**:Change it numerical and get dummies method\n",
        "\n",
        "**FLAG_MOBIL**:Drop feature\n",
        "\n",
        "**FLAG_WORK_PHONE**:get dummies method\n",
        "\n",
        "**FLAG_PHONE**:get dummies method\n",
        "\n",
        "**FLAG_EMAIL**:get dummies method\n",
        "\n",
        "**Account age**: Drop feature\n",
        "\n",
        "**Target**:Change the data type to numerical and balance the data"
      ]
    },
    {
      "cell_type": "code",
      "execution_count": null,
      "metadata": {
        "id": "AbcIRiF8ONbD"
      },
      "outputs": [],
      "source": [
        "new_data.info()"
      ]
    },
    {
      "cell_type": "code",
      "execution_count": null,
      "metadata": {
        "id": "NqFoBQ_mOg3q"
      },
      "outputs": [],
      "source": [
        "new_data.head()"
      ]
    },
    {
      "cell_type": "code",
      "execution_count": null,
      "metadata": {
        "id": "xYDpo5aTQEAW"
      },
      "outputs": [],
      "source": [
        "new_data_dp = new_data.copy()"
      ]
    },
    {
      "cell_type": "code",
      "execution_count": null,
      "metadata": {
        "id": "YRLqC45GQw_V"
      },
      "outputs": [],
      "source": [
        "X_data = new_data_dp.drop('Target',axis=1)\n",
        "Y_data = new_data_dp['Target']"
      ]
    },
    {
      "cell_type": "code",
      "execution_count": null,
      "metadata": {
        "id": "lEDERjGvWs_s"
      },
      "outputs": [],
      "source": [
        "X_data.to_csv('X_dataset.csv',index=False)"
      ]
    },
    {
      "cell_type": "markdown",
      "metadata": {
        "id": "bN1U5AfN3WK-"
      },
      "source": [
        "### Dropping Features"
      ]
    },
    {
      "cell_type": "code",
      "execution_count": null,
      "metadata": {
        "id": "7gMwpPUmQNKC"
      },
      "outputs": [],
      "source": [
        "X_data.drop(['Account age','FLAG_MOBIL','CNT_CHILDREN','ID','OCCUPATION_TYPE',],axis=1,inplace=True)"
      ]
    },
    {
      "cell_type": "markdown",
      "metadata": {
        "id": "o4zKl7NY3dEV"
      },
      "source": [
        "### Encoding Categorical Features"
      ]
    },
    {
      "cell_type": "code",
      "execution_count": null,
      "metadata": {
        "id": "422o9Pun7BxO"
      },
      "outputs": [],
      "source": [
        "cat_col = ['CODE_GENDER','NAME_FAMILY_STATUS','NAME_HOUSING_TYPE','NAME_INCOME_TYPE','NAME_EDUCATION_TYPE','FLAG_OWN_CAR','FLAG_OWN_REALTY','FLAG_WORK_PHONE','FLAG_PHONE','FLAG_EMAIL']"
      ]
    },
    {
      "cell_type": "code",
      "execution_count": null,
      "metadata": {
        "id": "nfwRJDcpA9hx"
      },
      "outputs": [],
      "source": [
        "dummies=pd.get_dummies(X_data[cat_col],drop_first=True)"
      ]
    },
    {
      "cell_type": "code",
      "execution_count": null,
      "metadata": {
        "id": "w_BM_L_yBpNI"
      },
      "outputs": [],
      "source": [
        "dummies.info()"
      ]
    },
    {
      "cell_type": "code",
      "execution_count": null,
      "metadata": {
        "id": "4vcf-tuH3upb"
      },
      "outputs": [],
      "source": [
        "X_data.drop(cat_col,axis=1,inplace=True)"
      ]
    },
    {
      "cell_type": "code",
      "execution_count": null,
      "metadata": {
        "id": "MRMozM6A4YyS"
      },
      "outputs": [],
      "source": [
        "X_data=pd.concat([dummies,X_data],axis=1)\n",
        "X_data.head()"
      ]
    },
    {
      "cell_type": "code",
      "execution_count": null,
      "metadata": {
        "id": "Gi3WTUKb5utN"
      },
      "outputs": [],
      "source": [
        "X_data.info()"
      ]
    },
    {
      "cell_type": "markdown",
      "metadata": {
        "id": "T6G33xv93GZs"
      },
      "source": [
        "### Handling Outliers"
      ]
    },
    {
      "cell_type": "code",
      "execution_count": null,
      "metadata": {
        "id": "-ERLoUZtNvmT"
      },
      "outputs": [],
      "source": [
        "#Capping Outliers to 99 %ile\n",
        "percentiles = X_data['CNT_FAM_MEMBERS'].quantile([0.05,0.99]).values\n",
        "X_data['CNT_FAM_MEMBERS'][X_data['CNT_FAM_MEMBERS'] <= percentiles[0]] = percentiles[0]\n",
        "X_data['CNT_FAM_MEMBERS'][X_data['CNT_FAM_MEMBERS'] >= percentiles[1]] = percentiles[1]"
      ]
    },
    {
      "cell_type": "code",
      "execution_count": null,
      "metadata": {
        "id": "ybNrwBlF3NVC"
      },
      "outputs": [],
      "source": [
        "percentiles = X_data['AMT_INCOME_TOTAL'].quantile([0.05,0.99]).values\n",
        "X_data['AMT_INCOME_TOTAL'][X_data['AMT_INCOME_TOTAL'] <= percentiles[0]] = percentiles[0]\n",
        "X_data['AMT_INCOME_TOTAL'][X_data['AMT_INCOME_TOTAL'] >= percentiles[1]] = percentiles[1]"
      ]
    },
    {
      "cell_type": "code",
      "execution_count": null,
      "metadata": {
        "id": "KJJyh0VN73ji"
      },
      "outputs": [],
      "source": [
        "percentiles = X_data['EMPLOYMENT_LENGTH'].quantile([0.05,0.99]).values\n",
        "X_data['EMPLOYMENT_LENGTH'][X_data['EMPLOYMENT_LENGTH'] <= percentiles[0]] = percentiles[0]\n",
        "X_data['EMPLOYMENT_LENGTH'][X_data['EMPLOYMENT_LENGTH'] >= percentiles[1]] = percentiles[1]"
      ]
    },
    {
      "cell_type": "markdown",
      "metadata": {
        "id": "vKry9MLO3Kj5"
      },
      "source": [
        "### Feature Scaling\n"
      ]
    },
    {
      "cell_type": "code",
      "execution_count": null,
      "metadata": {
        "id": "uKZMc6WpZixK"
      },
      "outputs": [],
      "source": [
        "scaler = MinMaxScaler()\n",
        "num_cat=['AGE','AMT_INCOME_TOTAL','EMPLOYMENT_LENGTH','CNT_FAM_MEMBERS']"
      ]
    },
    {
      "cell_type": "code",
      "execution_count": null,
      "metadata": {
        "id": "i2HRx4-xE2de"
      },
      "outputs": [],
      "source": [
        "X_data[num_cat]=scaler.fit_transform(X_data[num_cat])"
      ]
    },
    {
      "cell_type": "code",
      "execution_count": null,
      "metadata": {
        "id": "sXpEWv0d-R9i"
      },
      "outputs": [],
      "source": [
        "X_data.head()"
      ]
    },
    {
      "cell_type": "code",
      "execution_count": null,
      "metadata": {
        "id": "cABsIJiQ-W2Y"
      },
      "outputs": [],
      "source": [
        "X_data.info()"
      ]
    },
    {
      "cell_type": "markdown",
      "metadata": {
        "id": "amtCr27DAVJR"
      },
      "source": [
        "### Resampling using SMOTE"
      ]
    },
    {
      "cell_type": "code",
      "execution_count": null,
      "metadata": {
        "id": "yixUBmYfAaeP"
      },
      "outputs": [],
      "source": [
        "oversample = SMOTE(sampling_strategy='minority')\n",
        "X_resampled, Y_resampled = oversample.fit_resample(X_data,Y_data)\n",
        "print(\"Original dataset shape:\", X_data.shape, Y_data.shape)\n",
        "print(\"Resampled dataset shape:\", X_resampled.shape, Y_resampled.shape)"
      ]
    },
    {
      "cell_type": "code",
      "execution_count": null,
      "metadata": {
        "id": "g2PRNr7AsOfr"
      },
      "outputs": [],
      "source": [
        "X_resampled[X_resampled.index==69537]"
      ]
    },
    {
      "cell_type": "code",
      "execution_count": null,
      "metadata": {
        "id": "bnfBgVq2BR4A"
      },
      "outputs": [],
      "source": [
        "pd.set_option('display.max_columns', None)\n",
        "X_resampled.head()"
      ]
    },
    {
      "cell_type": "markdown",
      "metadata": {
        "id": "s0_VPH56SS-9"
      },
      "source": [
        "# Model Selection and Evaluation"
      ]
    },
    {
      "cell_type": "markdown",
      "metadata": {
        "id": "-Ip6AX2mByJQ"
      },
      "source": [
        "## Spliting data into Train and Test set"
      ]
    },
    {
      "cell_type": "code",
      "execution_count": null,
      "metadata": {
        "id": "6sf0rilwSdey"
      },
      "outputs": [],
      "source": [
        "X_train,X_test,Y_train,Y_test=train_test_split(X_resampled,Y_resampled,test_size=0.25,random_state=69)"
      ]
    },
    {
      "cell_type": "markdown",
      "metadata": {
        "id": "tVJaMtUIGZRs"
      },
      "source": [
        "## 1. Logistic Regression"
      ]
    },
    {
      "cell_type": "code",
      "execution_count": null,
      "metadata": {
        "id": "-ZSZgrAUETOz"
      },
      "outputs": [],
      "source": [
        "logistic_regression=LogisticRegression(random_state=42,max_iter=1000)\n",
        "logistic_model=logistic_regression.fit(X_train,Y_train)"
      ]
    },
    {
      "cell_type": "code",
      "execution_count": null,
      "metadata": {
        "id": "Rg2zPpXiFs_y"
      },
      "outputs": [],
      "source": [
        "Y_pred_lr=logistic_model.predict(X_test)"
      ]
    },
    {
      "cell_type": "code",
      "execution_count": null,
      "metadata": {
        "id": "ZVKO9ioyF0qj"
      },
      "outputs": [],
      "source": [
        "print(\"The accuracy of this model is: \",accuracy_score(Y_pred_lr,Y_test))"
      ]
    },
    {
      "cell_type": "code",
      "execution_count": null,
      "metadata": {
        "id": "jqRUldbFGOB3"
      },
      "outputs": [],
      "source": [
        "print(classification_report(Y_test,Y_pred_lr))"
      ]
    },
    {
      "cell_type": "code",
      "execution_count": null,
      "metadata": {
        "id": "Uyt65b1W0Hel"
      },
      "outputs": [],
      "source": [
        "skplt.metrics.plot_roc(Y_test, logistic_model.predict_proba(X_test), title = 'ROC curve for Logistic Regression Model', cmap='cool',figsize=(8,6), text_fontsize='large')\n",
        "plt.grid(visible=None)#remove the grid\n",
        "plt.show()"
      ]
    },
    {
      "cell_type": "code",
      "execution_count": null,
      "metadata": {
        "id": "xxs46aEa3QID"
      },
      "outputs": [],
      "source": [
        "fig, ax = plt.subplots(figsize=(8,8))\n",
        "#plot confusion matrix\n",
        "conf_matrix = ConfusionMatrixDisplay.from_predictions(Y_test, Y_pred_lr,ax=ax, cmap='Blues',values_format='d')\n",
        "# remove the grid\n",
        "plt.grid(visible=None)\n",
        "# increase the font size of the x and y labels\n",
        "plt.xlabel('Predicted label', fontsize=14)\n",
        "plt.ylabel('True label', fontsize=14)\n",
        "#give a title to the plot using the model name\n",
        "plt.title('Confusion Matrix', fontsize=14)\n",
        "#show the plot\n",
        "plt.show()"
      ]
    },
    {
      "cell_type": "code",
      "execution_count": null,
      "metadata": {
        "id": "wcAxMBTq9hsu"
      },
      "outputs": [],
      "source": [
        "plt.rcParams['xtick.labelsize'] = 12\n",
        "plt.rcParams['ytick.labelsize'] = 12\n",
        "# top 10 most predictive features\n",
        "top_10_feat = FeatureImportances(logistic_model, relative=False, topn=10)\n",
        "# top 10 least predictive features\n",
        "bottom_10_feat = FeatureImportances(logistic_model, relative=False, topn=-10)\n",
        "#change the figure size\n",
        "plt.figure(figsize=(10, 4))\n",
        "#change x label font size\n",
        "plt.xlabel('xlabel', fontsize=14)\n",
        "# Fit to get the feature importances\n",
        "top_10_feat.fit(X_train, Y_train)\n",
        "# show the plot\n",
        "top_10_feat.show()\n",
        "print('\\n')\n",
        "plt.figure(figsize=(10, 4))\n",
        "plt.xlabel('xlabel', fontsize=14)\n",
        "# Fit to get the feature importances\n",
        "bottom_10_feat.fit(X_train, Y_train)\n",
        "# show the plot\n",
        "bottom_10_feat.show()"
      ]
    },
    {
      "cell_type": "markdown",
      "metadata": {
        "id": "VRT1VilKGfh_"
      },
      "source": [
        "##2. Decision Tree Classifier"
      ]
    },
    {
      "cell_type": "code",
      "execution_count": null,
      "metadata": {
        "id": "tEwyVQnzGixs"
      },
      "outputs": [],
      "source": [
        "decision_tree=DecisionTreeClassifier(random_state=42)\n",
        "decision_model=decision_tree.fit(X_train,Y_train)"
      ]
    },
    {
      "cell_type": "code",
      "execution_count": null,
      "metadata": {
        "id": "2maI5yhXGzC_"
      },
      "outputs": [],
      "source": [
        "Y_pred_dt=decision_model.predict(X_test)"
      ]
    },
    {
      "cell_type": "code",
      "execution_count": null,
      "metadata": {
        "id": "ZxWIv17LG85j"
      },
      "outputs": [],
      "source": [
        "print(\"The accuracy of this model is: \",accuracy_score(Y_pred_dt,Y_test))"
      ]
    },
    {
      "cell_type": "code",
      "execution_count": null,
      "metadata": {
        "id": "I5hxtlDCHBab"
      },
      "outputs": [],
      "source": [
        "print(classification_report(Y_test,Y_pred_dt))"
      ]
    },
    {
      "cell_type": "code",
      "execution_count": null,
      "metadata": {
        "id": "dI5FXjjC6iqF"
      },
      "outputs": [],
      "source": [
        "skplt.metrics.plot_roc(Y_test, decision_model.predict_proba(X_test), title = 'ROC curve for Decision Tree Model', cmap='cool',figsize=(8,6), text_fontsize='large')\n",
        "plt.grid(visible=None)#remove the grid\n",
        "plt.show()"
      ]
    },
    {
      "cell_type": "code",
      "execution_count": null,
      "metadata": {
        "id": "cMKTfDxM7KJd"
      },
      "outputs": [],
      "source": [
        "fig, ax = plt.subplots(figsize=(8,8))\n",
        "#plot confusion matrix\n",
        "conf_matrix = ConfusionMatrixDisplay.from_predictions(Y_test, Y_pred_dt,ax=ax, cmap='Blues',values_format='d')\n",
        "# remove the grid\n",
        "plt.grid(visible=None)\n",
        "# increase the font size of the x and y labels\n",
        "plt.xlabel('Predicted label', fontsize=14)\n",
        "plt.ylabel('True label', fontsize=14)\n",
        "#give a title to the plot using the model name\n",
        "plt.title('Confusion Matrix', fontsize=14)\n",
        "#show the plot\n",
        "plt.show()"
      ]
    },
    {
      "cell_type": "code",
      "execution_count": null,
      "metadata": {
        "id": "gSY6iXmd-UTy"
      },
      "outputs": [],
      "source": [
        "plt.rcParams['xtick.labelsize'] = 12\n",
        "plt.rcParams['ytick.labelsize'] = 12\n",
        "# top 10 most predictive features\n",
        "top_10_feat = FeatureImportances(decision_model, relative=False, topn=10)\n",
        "# top 10 least predictive features\n",
        "bottom_10_feat = FeatureImportances(decision_model, relative=False, topn=-10)\n",
        "#change the figure size\n",
        "plt.figure(figsize=(10, 4))\n",
        "#change x label font size\n",
        "plt.xlabel('xlabel', fontsize=14)\n",
        "# Fit to get the feature importances\n",
        "top_10_feat.fit(X_train, Y_train)\n",
        "# show the plot\n",
        "top_10_feat.show()\n",
        "print('\\n')\n",
        "plt.figure(figsize=(10, 4))\n",
        "plt.xlabel('xlabel', fontsize=14)\n",
        "# Fit to get the feature importances\n",
        "bottom_10_feat.fit(X_train, Y_train)\n",
        "# show the plot\n",
        "bottom_10_feat.show()"
      ]
    },
    {
      "cell_type": "markdown",
      "metadata": {
        "id": "rwuIpqmUHNPc"
      },
      "source": [
        "##3. Random Forest Classifier"
      ]
    },
    {
      "cell_type": "code",
      "execution_count": null,
      "metadata": {
        "id": "GEgm7AnnHQ4W"
      },
      "outputs": [],
      "source": [
        "random_forest =RandomForestClassifier(random_state=42)\n",
        "random_model=random_forest.fit(X_train,Y_train)"
      ]
    },
    {
      "cell_type": "code",
      "execution_count": null,
      "metadata": {
        "id": "8365Q8rSHu8p"
      },
      "outputs": [],
      "source": [
        "Y_pred_rf=random_model.predict(X_test)"
      ]
    },
    {
      "cell_type": "code",
      "execution_count": null,
      "metadata": {
        "id": "RL1AFe3BH50w"
      },
      "outputs": [],
      "source": [
        "print(\"The accuracy of this model is: \",accuracy_score(Y_pred_rf,Y_test))"
      ]
    },
    {
      "cell_type": "code",
      "execution_count": null,
      "metadata": {
        "id": "Fo0RwSPcIAGK"
      },
      "outputs": [],
      "source": [
        "print(classification_report(Y_test,Y_pred_rf))"
      ]
    },
    {
      "cell_type": "code",
      "execution_count": null,
      "metadata": {
        "id": "L5BYWttm8lok"
      },
      "outputs": [],
      "source": [
        "skplt.metrics.plot_roc(Y_test, random_model.predict_proba(X_test), title = 'ROC curve for Random Forest Model', cmap='cool',figsize=(8,6), text_fontsize='large')\n",
        "plt.grid(visible=None)#remove the grid\n",
        "plt.show()"
      ]
    },
    {
      "cell_type": "code",
      "execution_count": null,
      "metadata": {
        "id": "gjdTThpZ7BMD"
      },
      "outputs": [],
      "source": [
        "fig, ax = plt.subplots(figsize=(8,8))\n",
        "#plot confusion matrix\n",
        "conf_matrix = ConfusionMatrixDisplay.from_predictions(Y_test, Y_pred_rf,ax=ax, cmap='Blues',values_format='d')\n",
        "# remove the grid\n",
        "plt.grid(visible=None)\n",
        "# increase the font size of the x and y labels\n",
        "plt.xlabel('Predicted label', fontsize=14)\n",
        "plt.ylabel('True label', fontsize=14)\n",
        "#give a title to the plot using the model name\n",
        "plt.title('Confusion Matrix', fontsize=14)\n",
        "#show the plot\n",
        "plt.show()"
      ]
    },
    {
      "cell_type": "code",
      "execution_count": null,
      "metadata": {
        "id": "cgSotT8v_itl"
      },
      "outputs": [],
      "source": [
        "plt.rcParams['xtick.labelsize'] = 12\n",
        "plt.rcParams['ytick.labelsize'] = 12\n",
        "# top 10 most predictive features\n",
        "top_10_feat = FeatureImportances(random_model, relative=False, topn=10)\n",
        "# top 10 least predictive features\n",
        "bottom_10_feat = FeatureImportances(random_model, relative=False, topn=-10)\n",
        "#change the figure size\n",
        "plt.figure(figsize=(10, 4))\n",
        "#change x label font size\n",
        "plt.xlabel('xlabel', fontsize=14)\n",
        "# Fit to get the feature importances\n",
        "top_10_feat.fit(X_train, Y_train)\n",
        "# show the plot\n",
        "top_10_feat.show()\n",
        "print('\\n')\n",
        "plt.figure(figsize=(10, 4))\n",
        "plt.xlabel('xlabel', fontsize=14)\n",
        "# Fit to get the feature importances\n",
        "bottom_10_feat.fit(X_train, Y_train)\n",
        "# show the plot\n",
        "bottom_10_feat.show()"
      ]
    },
    {
      "cell_type": "markdown",
      "metadata": {
        "id": "z8xxZCq28H6l"
      },
      "source": [
        "##4. Gaussian Naive Bayes"
      ]
    },
    {
      "cell_type": "code",
      "execution_count": null,
      "metadata": {
        "id": "USY5Rw8XATnj"
      },
      "outputs": [],
      "source": [
        "gaussian_naive_bayes = GaussianNB()\n",
        "gaussianNB_model = gaussian_naive_bayes.fit(X_train,Y_train)"
      ]
    },
    {
      "cell_type": "code",
      "execution_count": null,
      "metadata": {
        "id": "QmjCSgiwAgYB"
      },
      "outputs": [],
      "source": [
        "Y_pred_gnb = gaussianNB_model.predict(X_test)"
      ]
    },
    {
      "cell_type": "code",
      "execution_count": null,
      "metadata": {
        "id": "5HGnTxamAo5G"
      },
      "outputs": [],
      "source": [
        "print(\"The accuracy of this model is: \",accuracy_score(Y_pred_gnb,Y_test))"
      ]
    },
    {
      "cell_type": "code",
      "execution_count": null,
      "metadata": {
        "id": "vbsF6ejbAwtZ"
      },
      "outputs": [],
      "source": [
        "print(classification_report(Y_test,Y_pred_gnb))"
      ]
    },
    {
      "cell_type": "code",
      "execution_count": null,
      "metadata": {
        "id": "LnT1n1gkA4bI"
      },
      "outputs": [],
      "source": [
        "skplt.metrics.plot_roc(Y_test, gaussianNB_model.predict_proba(X_test), title = 'ROC curve for Gaussian Navie Bayes Model', cmap='cool',figsize=(8,6), text_fontsize='large')\n",
        "plt.grid(visible=None)#remove the grid\n",
        "plt.show()"
      ]
    },
    {
      "cell_type": "code",
      "execution_count": null,
      "metadata": {
        "id": "0IT16clfBFKY"
      },
      "outputs": [],
      "source": [
        "fig, ax = plt.subplots(figsize=(8,8))\n",
        "#plot confusion matrix\n",
        "conf_matrix = ConfusionMatrixDisplay.from_predictions(Y_test, Y_pred_gnb,ax=ax, cmap='Blues',values_format='d')\n",
        "# remove the grid\n",
        "plt.grid(visible=None)\n",
        "# increase the font size of the x and y labels\n",
        "plt.xlabel('Predicted label', fontsize=14)\n",
        "plt.ylabel('True label', fontsize=14)\n",
        "#give a title to the plot using the model name\n",
        "plt.title('Confusion Matrix', fontsize=14)\n",
        "#show the plot\n",
        "plt.show()"
      ]
    },
    {
      "cell_type": "markdown",
      "metadata": {
        "id": "0KYZTQYhCBf8"
      },
      "source": [
        "##5. K-Nearest Neighbour"
      ]
    },
    {
      "cell_type": "code",
      "execution_count": null,
      "metadata": {
        "id": "fN2DqpJyCAkZ"
      },
      "outputs": [],
      "source": [
        "k_nearest_neighbors =KNeighborsClassifier()\n",
        "knn_model=k_nearest_neighbors.fit(X_train,Y_train)"
      ]
    },
    {
      "cell_type": "code",
      "execution_count": null,
      "metadata": {
        "id": "QQlZVC6uCOEi"
      },
      "outputs": [],
      "source": [
        "Y_pred_knn=knn_model.predict(X_test)"
      ]
    },
    {
      "cell_type": "code",
      "execution_count": null,
      "metadata": {
        "id": "QfE6a4jhCewh"
      },
      "outputs": [],
      "source": [
        "print(\"The accuracy of this model is: \",accuracy_score(Y_pred_knn,Y_test))"
      ]
    },
    {
      "cell_type": "code",
      "execution_count": null,
      "metadata": {
        "id": "-saur98FCmU8"
      },
      "outputs": [],
      "source": [
        "print(classification_report(Y_test,Y_pred_knn))"
      ]
    },
    {
      "cell_type": "code",
      "execution_count": null,
      "metadata": {
        "id": "ZXuPuHeLShFF"
      },
      "outputs": [],
      "source": [
        "skplt.metrics.plot_roc(Y_test, knn_model.predict_proba(X_test), title = 'ROC curve for K-Nearest Neighbors Model', cmap='cool',figsize=(8,6), text_fontsize='large')\n",
        "plt.grid(visible=None)#remove the grid\n",
        "plt.show()"
      ]
    },
    {
      "cell_type": "code",
      "execution_count": null,
      "metadata": {
        "id": "yvTSpS9lDCAr"
      },
      "outputs": [],
      "source": [
        "fig, ax = plt.subplots(figsize=(8,8))\n",
        "#plot confusion matrix\n",
        "conf_matrix = ConfusionMatrixDisplay.from_predictions(Y_test, Y_pred_knn,ax=ax, cmap='Blues',values_format='d')\n",
        "# remove the grid\n",
        "plt.grid(visible=None)\n",
        "# increase the font size of the x and y labels\n",
        "plt.xlabel('Predicted label', fontsize=14)\n",
        "plt.ylabel('True label', fontsize=14)\n",
        "#give a title to the plot using the model name\n",
        "plt.title('Confusion Matrix', fontsize=14)\n",
        "#show the plot\n",
        "plt.show()"
      ]
    },
    {
      "cell_type": "markdown",
      "metadata": {
        "id": "LjnLNKs4DZ6v"
      },
      "source": [
        "##6.Gradient Boosting Classifier"
      ]
    },
    {
      "cell_type": "code",
      "execution_count": null,
      "metadata": {
        "id": "LzoxoZ62DZJe"
      },
      "outputs": [],
      "source": [
        "gradient_boosting =GradientBoostingClassifier(random_state=42)\n",
        "gradient_model = gradient_boosting.fit(X_train,Y_train)"
      ]
    },
    {
      "cell_type": "code",
      "execution_count": null,
      "metadata": {
        "id": "jidIHwY3D8Bi"
      },
      "outputs": [],
      "source": [
        "Y_pred_gb = gradient_model.predict(X_test)"
      ]
    },
    {
      "cell_type": "code",
      "execution_count": null,
      "metadata": {
        "id": "daFJM18NEG-U"
      },
      "outputs": [],
      "source": [
        "print(\"The accuracy of this model is: \",accuracy_score(Y_pred_gb,Y_test))"
      ]
    },
    {
      "cell_type": "code",
      "execution_count": null,
      "metadata": {
        "id": "OcmuM56jENXO"
      },
      "outputs": [],
      "source": [
        "print(classification_report(Y_test,Y_pred_gb))"
      ]
    },
    {
      "cell_type": "code",
      "execution_count": null,
      "metadata": {
        "id": "LhfNVkchEVmg"
      },
      "outputs": [],
      "source": [
        "skplt.metrics.plot_roc(Y_test, gradient_model.predict_proba(X_test), title = 'ROC curve for GradientBoosting Classifier Model', cmap='cool',figsize=(8,6), text_fontsize='large')\n",
        "plt.grid(visible=None)#remove the grid\n",
        "plt.show()"
      ]
    },
    {
      "cell_type": "code",
      "execution_count": null,
      "metadata": {
        "id": "eVJWeZb3EhWX"
      },
      "outputs": [],
      "source": [
        "fig, ax = plt.subplots(figsize=(8,8))\n",
        "#plot confusion matrix\n",
        "conf_matrix = ConfusionMatrixDisplay.from_predictions(Y_test, Y_pred_gb,ax=ax, cmap='Blues',values_format='d')\n",
        "# remove the grid\n",
        "plt.grid(visible=None)\n",
        "# increase the font size of the x and y labels\n",
        "plt.xlabel('Predicted label', fontsize=14)\n",
        "plt.ylabel('True label', fontsize=14)\n",
        "#give a title to the plot using the model name\n",
        "plt.title('Confusion Matrix', fontsize=14)\n",
        "#show the plot\n",
        "plt.show()"
      ]
    },
    {
      "cell_type": "code",
      "execution_count": null,
      "metadata": {
        "id": "R9pbj0gMLQae"
      },
      "outputs": [],
      "source": [
        "plt.rcParams['xtick.labelsize'] = 12\n",
        "plt.rcParams['ytick.labelsize'] = 12\n",
        "# top 10 most predictive features\n",
        "top_10_feat = FeatureImportances(gradient_model, relative=False, topn=10)\n",
        "# top 10 least predictive features\n",
        "bottom_10_feat = FeatureImportances(gradient_model, relative=False, topn=-10)\n",
        "#change the figure size\n",
        "plt.figure(figsize=(10, 4))\n",
        "#change x label font size\n",
        "plt.xlabel('xlabel', fontsize=14)\n",
        "# Fit to get the feature importances\n",
        "top_10_feat.fit(X_train, Y_train)\n",
        "# show the plot\n",
        "top_10_feat.show()\n",
        "print('\\n')\n",
        "plt.figure(figsize=(10, 4))\n",
        "plt.xlabel('xlabel', fontsize=14)\n",
        "# Fit to get the feature importances\n",
        "bottom_10_feat.fit(X_train, Y_train)\n",
        "# show the plot\n",
        "bottom_10_feat.show()"
      ]
    },
    {
      "cell_type": "markdown",
      "metadata": {
        "id": "GvCu7EGJFGin"
      },
      "source": [
        "##7.Linear Discriminant Analysis"
      ]
    },
    {
      "cell_type": "code",
      "execution_count": null,
      "metadata": {
        "id": "HATHc71-FVQQ"
      },
      "outputs": [],
      "source": [
        "linear_discriminant_analysis = LinearDiscriminantAnalysis()\n",
        "lda_model=linear_discriminant_analysis.fit(X_train,Y_train)"
      ]
    },
    {
      "cell_type": "code",
      "execution_count": null,
      "metadata": {
        "id": "d-DQugz8F4kQ"
      },
      "outputs": [],
      "source": [
        "Y_pred_lda=lda_model.predict(X_test)"
      ]
    },
    {
      "cell_type": "code",
      "execution_count": null,
      "metadata": {
        "id": "SiQwsA2GF98h"
      },
      "outputs": [],
      "source": [
        "print(\"The accuracy of this model is: \",accuracy_score(Y_pred_lda,Y_test))\n",
        "print('*'*100)\n",
        "print(classification_report(Y_test,Y_pred_lda))\n",
        "print('*'*100)\n",
        "skplt.metrics.plot_roc(Y_test, lda_model.predict_proba(X_test), title = 'ROC curve for Linear Discriminant Analysis Model', cmap='cool',figsize=(8,6), text_fontsize='large')\n",
        "plt.grid(visible=None)#remove the grid\n",
        "plt.show()\n",
        "print('*'*100)\n",
        "fig, ax = plt.subplots(figsize=(8,8))\n",
        "#plot confusion matrix\n",
        "conf_matrix = ConfusionMatrixDisplay.from_predictions(Y_test, Y_pred_lda,ax=ax, cmap='Blues',values_format='d')\n",
        "# remove the grid\n",
        "plt.grid(visible=None)\n",
        "# increase the font size of the x and y labels\n",
        "plt.xlabel('Predicted label', fontsize=14)\n",
        "plt.ylabel('True label', fontsize=14)\n",
        "#give a title to the plot using the model name\n",
        "plt.title('Confusion Matrix', fontsize=14)\n",
        "#show the plot\n",
        "plt.show()\n",
        "print('*'*100)\n",
        "plt.rcParams['xtick.labelsize'] = 12\n",
        "plt.rcParams['ytick.labelsize'] = 12\n",
        "# top 10 most predictive features\n",
        "top_10_feat = FeatureImportances(lda_model, relative=False, topn=10)\n",
        "# top 10 least predictive features\n",
        "bottom_10_feat = FeatureImportances(lda_model, relative=False, topn=-10)\n",
        "#change the figure size\n",
        "plt.figure(figsize=(10, 4))\n",
        "#change x label font size\n",
        "plt.xlabel('xlabel', fontsize=14)\n",
        "# Fit to get the feature importances\n",
        "top_10_feat.fit(X_train, Y_train)\n",
        "# show the plot\n",
        "top_10_feat.show()\n",
        "print('\\n')\n",
        "plt.figure(figsize=(10, 4))\n",
        "plt.xlabel('xlabel', fontsize=14)\n",
        "# Fit to get the feature importances\n",
        "bottom_10_feat.fit(X_train, Y_train)\n",
        "# show the plot\n",
        "bottom_10_feat.show()"
      ]
    },
    {
      "cell_type": "markdown",
      "metadata": {
        "id": "sFZIPgcXJXeE"
      },
      "source": [
        "##8. AdaBoost"
      ]
    },
    {
      "cell_type": "code",
      "execution_count": null,
      "metadata": {
        "id": "R7rvW6ufJWH7"
      },
      "outputs": [],
      "source": [
        "adaboost = AdaBoostClassifier(random_state=42)\n",
        "ada_model=adaboost.fit(X_train,Y_train)"
      ]
    },
    {
      "cell_type": "code",
      "execution_count": null,
      "metadata": {
        "id": "M24JceOGJ9De"
      },
      "outputs": [],
      "source": [
        "Y_pred_ada=ada_model.predict(X_test)"
      ]
    },
    {
      "cell_type": "code",
      "execution_count": null,
      "metadata": {
        "id": "ChUXyvb8KDvz"
      },
      "outputs": [],
      "source": [
        "print(\"The accuracy of this model is: \",accuracy_score(Y_pred_ada,Y_test))\n",
        "print('*'*100)\n",
        "print(classification_report(Y_test,Y_pred_ada))\n",
        "print('*'*100)\n",
        "skplt.metrics.plot_roc(Y_test, ada_model.predict_proba(X_test), title = 'ROC curve for AdaBoost Model', cmap='cool',figsize=(8,6), text_fontsize='large')\n",
        "plt.grid(visible=None)#remove the grid\n",
        "plt.show()\n",
        "print('*'*100)\n",
        "fig, ax = plt.subplots(figsize=(8,8))\n",
        "#plot confusion matrix\n",
        "conf_matrix = ConfusionMatrixDisplay.from_predictions(Y_test, Y_pred_ada,ax=ax, cmap='Blues',values_format='d')\n",
        "# remove the grid\n",
        "plt.grid(visible=None)\n",
        "# increase the font size of the x and y labels\n",
        "plt.xlabel('Predicted label', fontsize=14)\n",
        "plt.ylabel('True label', fontsize=14)\n",
        "#give a title to the plot using the model name\n",
        "plt.title('Confusion Matrix', fontsize=14)\n",
        "#show the plot\n",
        "plt.show()\n",
        "print('*'*100)\n",
        "plt.rcParams['xtick.labelsize'] = 12\n",
        "plt.rcParams['ytick.labelsize'] = 12\n",
        "# top 10 most predictive features\n",
        "top_10_feat = FeatureImportances(ada_model, relative=False, topn=10)\n",
        "# top 10 least predictive features\n",
        "bottom_10_feat = FeatureImportances(ada_model, relative=False, topn=-10)\n",
        "#change the figure size\n",
        "plt.figure(figsize=(10, 4))\n",
        "#change x label font size\n",
        "plt.xlabel('xlabel', fontsize=14)\n",
        "# Fit to get the feature importances\n",
        "top_10_feat.fit(X_train, Y_train)\n",
        "# show the plot\n",
        "top_10_feat.show()\n",
        "print('\\n')\n",
        "plt.figure(figsize=(10, 4))\n",
        "plt.xlabel('xlabel', fontsize=14)\n",
        "# Fit to get the feature importances\n",
        "bottom_10_feat.fit(X_train, Y_train)\n",
        "# show the plot\n",
        "bottom_10_feat.show()\n"
      ]
    },
    {
      "cell_type": "markdown",
      "metadata": {
        "id": "LsTihikH0Ano"
      },
      "source": [
        "# Saving Model"
      ]
    },
    {
      "cell_type": "code",
      "execution_count": null,
      "metadata": {
        "id": "jxPsl9Bb0CNv",
        "colab": {
          "base_uri": "https://localhost:8080/",
          "height": 182
        },
        "outputId": "ab261c33-d30e-44db-c5d0-b854c8f253cf"
      },
      "outputs": [
        {
          "output_type": "error",
          "ename": "NameError",
          "evalue": "ignored",
          "traceback": [
            "\u001b[0;31m---------------------------------------------------------------------------\u001b[0m",
            "\u001b[0;31mNameError\u001b[0m                                 Traceback (most recent call last)",
            "\u001b[0;32m<ipython-input-2-ff20b4591693>\u001b[0m in \u001b[0;36m<cell line: 2>\u001b[0;34m()\u001b[0m\n\u001b[1;32m      1\u001b[0m \u001b[0mfinal_model\u001b[0m\u001b[0;34m=\u001b[0m\u001b[0;34m'final_model.sav'\u001b[0m\u001b[0;34m\u001b[0m\u001b[0;34m\u001b[0m\u001b[0m\n\u001b[0;32m----> 2\u001b[0;31m \u001b[0mjoblib\u001b[0m\u001b[0;34m.\u001b[0m\u001b[0mdump\u001b[0m\u001b[0;34m(\u001b[0m\u001b[0mrandom_model\u001b[0m\u001b[0;34m,\u001b[0m\u001b[0mfinal_model\u001b[0m\u001b[0;34m)\u001b[0m\u001b[0;34m\u001b[0m\u001b[0;34m\u001b[0m\u001b[0m\n\u001b[0m",
            "\u001b[0;31mNameError\u001b[0m: name 'joblib' is not defined"
          ]
        }
      ],
      "source": [
        "+\n",
        "\n",
        "\n",
        "/ 345678ertyufinal_model='final_model.sav'\n",
        "joblib.dump(random_model,final_model)"
      ]
    },
    {
      "cell_type": "code",
      "execution_count": null,
      "metadata": {
        "id": "GD-AOssv1ryP"
      },
      "outputs": [],
      "source": []
    }
  ],
  "metadata": {
    "colab": {
      "collapsed_sections": [
        "Gw-kAmH-8YrL",
        "QIi80XdJCdhr",
        "on3ahnISZana",
        "v83J9Xqua_Fa",
        "G-bdEzRBcdT3",
        "6-TcVA5sdran",
        "RJd46q9VfKLS",
        "yToDIe3PgNju",
        "UHUh_MfJgoOa",
        "K4wO6YxmhMaZ",
        "GZbK17Oth9vF",
        "9uxa7wSGi9ig",
        "udNmicVyjaTY",
        "qEZjP4sDkZGp",
        "MPhiWaeblMlz",
        "ugZqohX0mmuC",
        "BLiVievTmwbW",
        "L8jyKeyHoXAd",
        "7-2QLLUookZ7",
        "IFdzRaQqo7py",
        "KeBIX5lWph44",
        "USB7PniXsSgl",
        "qtKyOiU3sgL7",
        "6MvBXIBNxGFI"
      ],
      "provenance": []
    },
    "kernelspec": {
      "display_name": "Python 3",
      "name": "python3"
    },
    "language_info": {
      "name": "python"
    }
  },
  "nbformat": 4,
  "nbformat_minor": 0
}